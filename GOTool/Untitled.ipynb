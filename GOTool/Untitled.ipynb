{
 "cells": [
  {
   "cell_type": "code",
   "execution_count": 1,
   "metadata": {},
   "outputs": [],
   "source": [
    "import pandas as pd\n",
    "import urllib"
   ]
  },
  {
   "cell_type": "code",
   "execution_count": 2,
   "metadata": {},
   "outputs": [],
   "source": [
    "url = 'https://www.ebi.ac.uk/GOA/proteomes'\n",
    "response = urllib.request.urlopen(url)\n",
    "txt = response.read()"
   ]
  },
  {
   "cell_type": "code",
   "execution_count": 4,
   "metadata": {},
   "outputs": [
    {
     "ename": "AttributeError",
     "evalue": "'list' object has no attribute 'head'",
     "output_type": "error",
     "traceback": [
      "\u001b[0;31m---------------------------------------------------------------------------\u001b[0m",
      "\u001b[0;31mAttributeError\u001b[0m                            Traceback (most recent call last)",
      "\u001b[0;32m<ipython-input-4-73f5b260bff3>\u001b[0m in \u001b[0;36m<module>\u001b[0;34m()\u001b[0m\n\u001b[1;32m      1\u001b[0m \u001b[0mdf\u001b[0m \u001b[0;34m=\u001b[0m \u001b[0mpd\u001b[0m\u001b[0;34m.\u001b[0m\u001b[0mread_html\u001b[0m\u001b[0;34m(\u001b[0m\u001b[0mtxt\u001b[0m\u001b[0;34m)\u001b[0m\u001b[0;34m\u001b[0m\u001b[0m\n\u001b[0;32m----> 2\u001b[0;31m \u001b[0mdf\u001b[0m\u001b[0;34m.\u001b[0m\u001b[0mhead\u001b[0m\u001b[0;34m(\u001b[0m\u001b[0;34m)\u001b[0m\u001b[0;34m\u001b[0m\u001b[0m\n\u001b[0m",
      "\u001b[0;31mAttributeError\u001b[0m: 'list' object has no attribute 'head'"
     ]
    }
   ],
   "source": [
    "df = pd.read_html(txt)\n",
    "df.head()"
   ]
  },
  {
   "cell_type": "code",
   "execution_count": 7,
   "metadata": {},
   "outputs": [
    {
     "data": {
      "text/plain": [
       "1"
      ]
     },
     "execution_count": 7,
     "metadata": {},
     "output_type": "execute_result"
    }
   ],
   "source": [
    "len(df)"
   ]
  },
  {
   "cell_type": "code",
   "execution_count": 8,
   "metadata": {},
   "outputs": [
    {
     "data": {
      "text/html": [
       "<div>\n",
       "<style scoped>\n",
       "    .dataframe tbody tr th:only-of-type {\n",
       "        vertical-align: middle;\n",
       "    }\n",
       "\n",
       "    .dataframe tbody tr th {\n",
       "        vertical-align: top;\n",
       "    }\n",
       "\n",
       "    .dataframe thead th {\n",
       "        text-align: right;\n",
       "    }\n",
       "</style>\n",
       "<table border=\"1\" class=\"dataframe\">\n",
       "  <thead>\n",
       "    <tr style=\"text-align: right;\">\n",
       "      <th></th>\n",
       "      <th>0</th>\n",
       "      <th>1</th>\n",
       "      <th>2</th>\n",
       "      <th>3</th>\n",
       "      <th>4</th>\n",
       "      <th>5</th>\n",
       "      <th>6</th>\n",
       "    </tr>\n",
       "  </thead>\n",
       "  <tbody>\n",
       "    <tr>\n",
       "      <th>0</th>\n",
       "      <td>Tax ID</td>\n",
       "      <td>Organism</td>\n",
       "      <td>File</td>\n",
       "      <td>Total entries</td>\n",
       "      <td>Entries Annotated</td>\n",
       "      <td>GO Annotations</td>\n",
       "      <td>Percentage coverage</td>\n",
       "    </tr>\n",
       "    <tr>\n",
       "      <th>1</th>\n",
       "      <td>1123738</td>\n",
       "      <td>'Echinacea purpurea' witches'-broom phytoplasma</td>\n",
       "      <td>1557631.E_purpurea_witches-broom_phytoplasma.goa</td>\n",
       "      <td>433</td>\n",
       "      <td>356</td>\n",
       "      <td>2735</td>\n",
       "      <td>82.2%</td>\n",
       "    </tr>\n",
       "    <tr>\n",
       "      <th>2</th>\n",
       "      <td>85617</td>\n",
       "      <td>A48 Vesicular exanthema of swine virus</td>\n",
       "      <td>64764.V_exanthema_of_swine_virus_serotype_A48.goa</td>\n",
       "      <td>3</td>\n",
       "      <td>3</td>\n",
       "      <td>34</td>\n",
       "      <td>100%</td>\n",
       "    </tr>\n",
       "    <tr>\n",
       "      <th>3</th>\n",
       "      <td>10515</td>\n",
       "      <td>ADRCG Adenovirus type 2</td>\n",
       "      <td>64946.H_adenovirus_C_serotype_2.goa</td>\n",
       "      <td>45</td>\n",
       "      <td>34</td>\n",
       "      <td>354</td>\n",
       "      <td>75.6%</td>\n",
       "    </tr>\n",
       "    <tr>\n",
       "      <th>4</th>\n",
       "      <td>10498</td>\n",
       "      <td>ASU18466 African swine fever virus strain BA71V</td>\n",
       "      <td>31679.A.goa</td>\n",
       "      <td>150</td>\n",
       "      <td>86</td>\n",
       "      <td>516</td>\n",
       "      <td>57.3%</td>\n",
       "    </tr>\n",
       "  </tbody>\n",
       "</table>\n",
       "</div>"
      ],
      "text/plain": [
       "         0                                                1  \\\n",
       "0   Tax ID                                         Organism   \n",
       "1  1123738  'Echinacea purpurea' witches'-broom phytoplasma   \n",
       "2    85617           A48 Vesicular exanthema of swine virus   \n",
       "3    10515                          ADRCG Adenovirus type 2   \n",
       "4    10498  ASU18466 African swine fever virus strain BA71V   \n",
       "\n",
       "                                                   2              3  \\\n",
       "0                                               File  Total entries   \n",
       "1   1557631.E_purpurea_witches-broom_phytoplasma.goa            433   \n",
       "2  64764.V_exanthema_of_swine_virus_serotype_A48.goa              3   \n",
       "3                64946.H_adenovirus_C_serotype_2.goa             45   \n",
       "4                                        31679.A.goa            150   \n",
       "\n",
       "                   4               5                    6  \n",
       "0  Entries Annotated  GO Annotations  Percentage coverage  \n",
       "1                356            2735                82.2%  \n",
       "2                  3              34                 100%  \n",
       "3                 34             354                75.6%  \n",
       "4                 86             516                57.3%  "
      ]
     },
     "execution_count": 8,
     "metadata": {},
     "output_type": "execute_result"
    }
   ],
   "source": [
    "df[0].head()"
   ]
  },
  {
   "cell_type": "code",
   "execution_count": null,
   "metadata": {},
   "outputs": [],
   "source": []
  }
 ],
 "metadata": {
  "kernelspec": {
   "display_name": "Python 3",
   "language": "python",
   "name": "python3"
  },
  "language_info": {
   "codemirror_mode": {
    "name": "ipython",
    "version": 3
   },
   "file_extension": ".py",
   "mimetype": "text/x-python",
   "name": "python",
   "nbconvert_exporter": "python",
   "pygments_lexer": "ipython3",
   "version": "3.5.2"
  }
 },
 "nbformat": 4,
 "nbformat_minor": 2
}
